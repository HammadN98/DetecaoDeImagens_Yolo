{
  "nbformat": 4,
  "nbformat_minor": 0,
  "metadata": {
    "colab": {
      "provenance": [],
      "gpuType": "T4",
      "authorship_tag": "ABX9TyPzpiwYsvfNu6nTgDW97Ug7",
      "include_colab_link": true
    },
    "kernelspec": {
      "name": "python3",
      "display_name": "Python 3"
    },
    "language_info": {
      "name": "python"
    },
    "accelerator": "GPU"
  },
  "cells": [
    {
      "cell_type": "markdown",
      "metadata": {
        "id": "view-in-github",
        "colab_type": "text"
      },
      "source": [
        "<a href=\"https://colab.research.google.com/github/HammadN98/DetecaoDeImagens_Yolov3/blob/main/ProjetoYOLO_Final.ipynb\" target=\"_parent\"><img src=\"https://colab.research.google.com/assets/colab-badge.svg\" alt=\"Open In Colab\"/></a>"
      ]
    },
    {
      "cell_type": "markdown",
      "source": [
        "#Arrumando os dados"
      ],
      "metadata": {
        "id": "WIla1teeCHBR"
      }
    },
    {
      "cell_type": "code",
      "execution_count": null,
      "metadata": {
        "id": "2qNTiDYpZvTG"
      },
      "outputs": [],
      "source": [
        "!git clone http://github.com/EscVM/OIDv4_ToolKit.git"
      ]
    },
    {
      "cell_type": "code",
      "source": [
        "cd OIDv4_ToolKit/"
      ],
      "metadata": {
        "id": "W8Xmr0AUcsaO"
      },
      "execution_count": null,
      "outputs": []
    },
    {
      "cell_type": "code",
      "source": [
        "!pip3 install -r requirements.txt"
      ],
      "metadata": {
        "id": "e6Tqm33PcsYM"
      },
      "execution_count": null,
      "outputs": []
    },
    {
      "cell_type": "code",
      "source": [
        "!python main.py downloader --classes Axe Knife --type_csv train --limit 100 --multiclasse 1\n",
        "\n",
        "# Axe Knife"
      ],
      "metadata": {
        "id": "XtvGL7F3csVx"
      },
      "execution_count": null,
      "outputs": []
    },
    {
      "cell_type": "code",
      "source": [
        "!python main.py downloader --classes Axe Knife --type_csv test --limit 25 --multiclasse 1"
      ],
      "metadata": {
        "id": "DaYFGNd_csTg"
      },
      "execution_count": null,
      "outputs": []
    },
    {
      "cell_type": "code",
      "source": [
        "!cat classes.txt"
      ],
      "metadata": {
        "id": "DPiNtVoSfOmw"
      },
      "execution_count": null,
      "outputs": []
    },
    {
      "cell_type": "code",
      "source": [
        "!echo -e 'Axe\\nKnife' > classes.txt"
      ],
      "metadata": {
        "id": "6DH6o5K2csQc"
      },
      "execution_count": null,
      "outputs": []
    },
    {
      "cell_type": "code",
      "source": [
        "!git clone -n http://github.com/Hemilibeatriz/TreinamentoCustomizadoYOLO.git"
      ],
      "metadata": {
        "id": "5Zx7fD7scsN6"
      },
      "execution_count": null,
      "outputs": []
    },
    {
      "cell_type": "code",
      "source": [
        "cd TreinamentoCustomizadoYOLO/"
      ],
      "metadata": {
        "id": "2g2kKZokcsLv"
      },
      "execution_count": null,
      "outputs": []
    },
    {
      "cell_type": "code",
      "source": [
        "ls"
      ],
      "metadata": {
        "id": "MP8pBvJycsJY"
      },
      "execution_count": null,
      "outputs": []
    },
    {
      "cell_type": "code",
      "source": [
        "!git checkout HEAD converter_anotacoes.py"
      ],
      "metadata": {
        "id": "zwT3_uFQcsHA"
      },
      "execution_count": null,
      "outputs": []
    },
    {
      "cell_type": "code",
      "source": [
        "!mv converter_anotacoes.py /content/OIDv4_ToolKit/"
      ],
      "metadata": {
        "id": "2dDrF9rHcsE7"
      },
      "execution_count": null,
      "outputs": []
    },
    {
      "cell_type": "code",
      "source": [
        "cd .."
      ],
      "metadata": {
        "id": "rTwiGUAaiESk"
      },
      "execution_count": null,
      "outputs": []
    },
    {
      "cell_type": "code",
      "source": [
        "!python converter_anotacoes.py"
      ],
      "metadata": {
        "id": "PL5U7SuLcsCX"
      },
      "execution_count": null,
      "outputs": []
    },
    {
      "cell_type": "code",
      "source": [
        "cd OID/Dataset/train/"
      ],
      "metadata": {
        "id": "ru80yuBNiIus"
      },
      "execution_count": null,
      "outputs": []
    },
    {
      "cell_type": "code",
      "source": [
        "!zip -r ../../../obj.zip obj -x obj/label/*"
      ],
      "metadata": {
        "id": "sNkDVrm3iImZ"
      },
      "execution_count": null,
      "outputs": []
    },
    {
      "cell_type": "code",
      "source": [
        "ls"
      ],
      "metadata": {
        "id": "Xd7U-rv1cr_8"
      },
      "execution_count": null,
      "outputs": []
    },
    {
      "cell_type": "code",
      "source": [
        "cd .."
      ],
      "metadata": {
        "id": "-BfQ4IPjcr9U"
      },
      "execution_count": null,
      "outputs": []
    },
    {
      "cell_type": "code",
      "source": [
        "cd test/"
      ],
      "metadata": {
        "id": "eh2CKDjQcr64"
      },
      "execution_count": null,
      "outputs": []
    },
    {
      "cell_type": "code",
      "source": [
        "ls"
      ],
      "metadata": {
        "id": "0bA_R4kNjgCb"
      },
      "execution_count": null,
      "outputs": []
    },
    {
      "cell_type": "code",
      "source": [
        "!zip -r ../../../valid.zip valid -x valid/label/*"
      ],
      "metadata": {
        "id": "O-3xyupEcr4o"
      },
      "execution_count": null,
      "outputs": []
    },
    {
      "cell_type": "code",
      "source": [
        "from google.colab import drive\n",
        "drive.mount('/content/gdrive')"
      ],
      "metadata": {
        "id": "L--aJmgxcr2J"
      },
      "execution_count": null,
      "outputs": []
    },
    {
      "cell_type": "code",
      "source": [
        "!ln -s /content/gdrive/My\\ Drive/yolo /yolo"
      ],
      "metadata": {
        "id": "FA3KbkCGcrzz"
      },
      "execution_count": null,
      "outputs": []
    },
    {
      "cell_type": "code",
      "source": [
        "cd ../../../"
      ],
      "metadata": {
        "id": "FKsocaVLcrxv"
      },
      "execution_count": null,
      "outputs": []
    },
    {
      "cell_type": "code",
      "source": [
        "ls"
      ],
      "metadata": {
        "id": "H2qjpviLcrvq"
      },
      "execution_count": null,
      "outputs": []
    },
    {
      "cell_type": "code",
      "source": [
        "!cp ./obj.zip /yolo"
      ],
      "metadata": {
        "id": "bg5Yvi6_crtb"
      },
      "execution_count": null,
      "outputs": []
    },
    {
      "cell_type": "code",
      "source": [
        "!cp ./valid.zip /yolo"
      ],
      "metadata": {
        "id": "EftHIdRXcrrV"
      },
      "execution_count": null,
      "outputs": []
    },
    {
      "cell_type": "markdown",
      "source": [
        "#Editando arquivos .cfg"
      ],
      "metadata": {
        "id": "lTwDAxOfk-zK"
      }
    },
    {
      "cell_type": "code",
      "source": [
        "cd .."
      ],
      "metadata": {
        "colab": {
          "base_uri": "https://localhost:8080/"
        },
        "id": "JD88m2FscrpH",
        "outputId": "8f1b6829-3564-41f1-860e-d82be511964e"
      },
      "execution_count": null,
      "outputs": [
        {
          "output_type": "stream",
          "name": "stdout",
          "text": [
            "/content\n"
          ]
        }
      ]
    },
    {
      "cell_type": "code",
      "source": [
        "!git clone https://github.com/AlexeyAB/darknet.git"
      ],
      "metadata": {
        "colab": {
          "base_uri": "https://localhost:8080/"
        },
        "id": "o-xyu1srcrmf",
        "outputId": "449c7730-fd02-4dfe-813c-08de71e9af4f"
      },
      "execution_count": null,
      "outputs": [
        {
          "output_type": "stream",
          "name": "stdout",
          "text": [
            "Cloning into 'darknet'...\n",
            "remote: Enumerating objects: 15833, done.\u001b[K\n",
            "remote: Total 15833 (delta 0), reused 0 (delta 0), pack-reused 15833\u001b[K\n",
            "Receiving objects: 100% (15833/15833), 14.39 MiB | 19.88 MiB/s, done.\n",
            "Resolving deltas: 100% (10666/10666), done.\n"
          ]
        }
      ]
    },
    {
      "cell_type": "code",
      "source": [
        "cd darknet/"
      ],
      "metadata": {
        "colab": {
          "base_uri": "https://localhost:8080/"
        },
        "id": "xka1giPacrkM",
        "outputId": "70106755-6706-41ba-ad04-117d2c7675cf"
      },
      "execution_count": null,
      "outputs": [
        {
          "output_type": "stream",
          "name": "stdout",
          "text": [
            "/content/darknet\n"
          ]
        }
      ]
    },
    {
      "cell_type": "code",
      "source": [
        "\n",
        "!make"
      ],
      "metadata": {
        "id": "0cz6RYDMcriJ"
      },
      "execution_count": null,
      "outputs": []
    },
    {
      "cell_type": "code",
      "source": [
        "!cp cfg/yolov4.cfg /yolo/yolov4_custom.cfg\n"
      ],
      "metadata": {
        "id": "WM6KTqHbcrf5"
      },
      "execution_count": null,
      "outputs": []
    },
    {
      "cell_type": "code",
      "source": [
        "!touch obj.names"
      ],
      "metadata": {
        "id": "WT05XPbFcrdQ"
      },
      "execution_count": null,
      "outputs": []
    },
    {
      "cell_type": "code",
      "source": [
        "!touch obj.data"
      ],
      "metadata": {
        "id": "_3jmS2SEcra8"
      },
      "execution_count": null,
      "outputs": []
    },
    {
      "cell_type": "code",
      "source": [
        "!cp obj.names /yolo/obj.names\n",
        "!cp obj.data /yolo/obj.data"
      ],
      "metadata": {
        "id": "gGiGcxojmOQa"
      },
      "execution_count": null,
      "outputs": []
    },
    {
      "cell_type": "code",
      "source": [
        "cd .."
      ],
      "metadata": {
        "colab": {
          "base_uri": "https://localhost:8080/"
        },
        "id": "J3dbMNeQmS15",
        "outputId": "ce48f0de-a407-4925-81f2-791f596f2d25"
      },
      "execution_count": null,
      "outputs": [
        {
          "output_type": "stream",
          "name": "stdout",
          "text": [
            "/content\n"
          ]
        }
      ]
    },
    {
      "cell_type": "code",
      "source": [
        "cd OIDv4_ToolKit/"
      ],
      "metadata": {
        "colab": {
          "base_uri": "https://localhost:8080/"
        },
        "id": "mAI7ATuhmS0J",
        "outputId": "623a4dd3-90de-40a1-9088-ecc9962eb2c5"
      },
      "execution_count": null,
      "outputs": [
        {
          "output_type": "stream",
          "name": "stdout",
          "text": [
            "/content/OIDv4_ToolKit\n"
          ]
        }
      ]
    },
    {
      "cell_type": "code",
      "source": [
        "!unzip obj.zip -d ./data"
      ],
      "metadata": {
        "id": "sSSODpctmSw-"
      },
      "execution_count": null,
      "outputs": []
    },
    {
      "cell_type": "code",
      "source": [
        "!unzip valid.zip -d ./data"
      ],
      "metadata": {
        "id": "XmdCwLBumSvR"
      },
      "execution_count": null,
      "outputs": []
    },
    {
      "cell_type": "code",
      "source": [
        "cd TreinamentoCustomizadoYOLO/"
      ],
      "metadata": {
        "colab": {
          "base_uri": "https://localhost:8080/"
        },
        "id": "pFEz0W5fmSrb",
        "outputId": "feac4bbc-d044-4d57-ee32-a2e2215d2877"
      },
      "execution_count": null,
      "outputs": [
        {
          "output_type": "stream",
          "name": "stdout",
          "text": [
            "/content/OIDv4_ToolKit/TreinamentoCustomizadoYOLO\n"
          ]
        }
      ]
    },
    {
      "cell_type": "code",
      "source": [
        "!git checkout HEAD gera_train.py"
      ],
      "metadata": {
        "colab": {
          "base_uri": "https://localhost:8080/"
        },
        "id": "b_ByQcd9mSpX",
        "outputId": "1f9d006c-1514-486f-9feb-b78573cf2446"
      },
      "execution_count": null,
      "outputs": [
        {
          "output_type": "stream",
          "name": "stdout",
          "text": [
            "Updated 1 path from 2c25c08\n"
          ]
        }
      ]
    },
    {
      "cell_type": "code",
      "source": [
        "!git checkout HEAD gera_test.py"
      ],
      "metadata": {
        "colab": {
          "base_uri": "https://localhost:8080/"
        },
        "id": "-sZOOtrXmSm3",
        "outputId": "b7093cb4-811e-4b25-91b0-efd5e4769b59"
      },
      "execution_count": null,
      "outputs": [
        {
          "output_type": "stream",
          "name": "stdout",
          "text": [
            "Updated 1 path from 2c25c08\n"
          ]
        }
      ]
    },
    {
      "cell_type": "code",
      "source": [
        "!mv gera_train.py /content/OIDv4_ToolKit/\n",
        "!mv gera_test.py /content/OIDv4_ToolKit/"
      ],
      "metadata": {
        "id": "qE-dh4sMmSlU"
      },
      "execution_count": null,
      "outputs": []
    },
    {
      "cell_type": "code",
      "source": [
        "cd .."
      ],
      "metadata": {
        "colab": {
          "base_uri": "https://localhost:8080/"
        },
        "id": "4YrRZJkqmShy",
        "outputId": "8b8690dc-b0cb-45f1-fd50-aefe5eab307a"
      },
      "execution_count": null,
      "outputs": [
        {
          "output_type": "stream",
          "name": "stdout",
          "text": [
            "/content/OIDv4_ToolKit\n"
          ]
        }
      ]
    },
    {
      "cell_type": "code",
      "source": [
        "!python /content/OIDv4_ToolKit/gera_train.py"
      ],
      "metadata": {
        "id": "vi2nP_OwmSf0"
      },
      "execution_count": null,
      "outputs": []
    },
    {
      "cell_type": "code",
      "source": [
        "!python /content/OIDv4_ToolKit/gera_test.py"
      ],
      "metadata": {
        "id": "yX6h1ESrmSeB"
      },
      "execution_count": null,
      "outputs": []
    },
    {
      "cell_type": "code",
      "source": [
        "cd data"
      ],
      "metadata": {
        "colab": {
          "base_uri": "https://localhost:8080/"
        },
        "id": "zNnmApTcmScb",
        "outputId": "f1b1385f-e7bc-4ae7-eb7c-7fdee9d9fa06"
      },
      "execution_count": null,
      "outputs": [
        {
          "output_type": "stream",
          "name": "stdout",
          "text": [
            "/content/OIDv4_ToolKit/data\n"
          ]
        }
      ]
    },
    {
      "cell_type": "code",
      "source": [
        "!cp train.txt /yolo/train.txt\n",
        "!cp test.txt /yolo/test.txt"
      ],
      "metadata": {
        "id": "fc5lkEnLmSZg"
      },
      "execution_count": null,
      "outputs": []
    },
    {
      "cell_type": "markdown",
      "source": [
        "#Treinamento E Teste da Rede YOLO"
      ],
      "metadata": {
        "id": "sjrKXax1B7HB"
      }
    },
    {
      "cell_type": "code",
      "source": [
        "#AQui\n",
        "import tensorflow as tf\n",
        "device_name = tf.test.gpu_device_name()\n",
        "print(device_name)"
      ],
      "metadata": {
        "colab": {
          "base_uri": "https://localhost:8080/"
        },
        "id": "cHja9uJumSW1",
        "outputId": "80a72c73-d7e0-4eb1-ebfd-59eb4d26c782"
      },
      "execution_count": 1,
      "outputs": [
        {
          "output_type": "stream",
          "name": "stdout",
          "text": [
            "/device:GPU:0\n"
          ]
        }
      ]
    },
    {
      "cell_type": "code",
      "source": [
        "!git clone https://github.com/AlexeyAB/darknet.git"
      ],
      "metadata": {
        "id": "daEbvPDMq_lj"
      },
      "execution_count": null,
      "outputs": []
    },
    {
      "cell_type": "code",
      "source": [
        "cd darknet/\n"
      ],
      "metadata": {
        "id": "byXO3AdDCV2u"
      },
      "execution_count": null,
      "outputs": []
    },
    {
      "cell_type": "code",
      "source": [
        "!make"
      ],
      "metadata": {
        "id": "iYo6YQy9rKkV"
      },
      "execution_count": null,
      "outputs": []
    },
    {
      "cell_type": "code",
      "source": [
        "#cd darknet"
      ],
      "metadata": {
        "colab": {
          "base_uri": "https://localhost:8080/"
        },
        "id": "NLxoGCtaqwSt",
        "outputId": "d8cf234c-5d9a-4789-81be-3c4276de951b"
      },
      "execution_count": null,
      "outputs": [
        {
          "output_type": "stream",
          "name": "stdout",
          "text": [
            "/content/darknet\n"
          ]
        }
      ]
    },
    {
      "cell_type": "code",
      "source": [
        "ls"
      ],
      "metadata": {
        "colab": {
          "base_uri": "https://localhost:8080/"
        },
        "id": "T1-R-e7TqwP-",
        "outputId": "96b51521-57d3-4732-d096-da80e72ba868"
      },
      "execution_count": 5,
      "outputs": [
        {
          "output_type": "stream",
          "name": "stdout",
          "text": [
            "\u001b[0m\u001b[01;34m3rdparty\u001b[0m/       \u001b[01;32mdarknet\u001b[0m*                Dockerfile.cpu          Makefile        \u001b[01;34mscripts\u001b[0m/\n",
            "\u001b[01;34mbackup\u001b[0m/         DarknetConfig.cmake.in  Dockerfile.gpu          \u001b[01;32mnet_cam_v3.sh\u001b[0m*  \u001b[01;34msrc\u001b[0m/\n",
            "\u001b[01;34mbuild\u001b[0m/          darknet_images.py       \u001b[01;32mimage_yolov3.sh\u001b[0m*        \u001b[01;32mnet_cam_v4.sh\u001b[0m*  vcpkg.json\n",
            "\u001b[01;32mbuild.ps1\u001b[0m*      darknet.py              \u001b[01;32mimage_yolov4.sh\u001b[0m*        \u001b[01;34mobj\u001b[0m/            vcpkg.json.opencv23\n",
            "\u001b[01;34mcfg\u001b[0m/            darknet_video.py        \u001b[01;34minclude\u001b[0m/                package.xml     \u001b[01;32mvideo_yolov3.sh\u001b[0m*\n",
            "\u001b[01;34mcmake\u001b[0m/          \u001b[01;34mdata\u001b[0m/                   \u001b[01;32mjson_mjpeg_streams.sh\u001b[0m*  README.md       \u001b[01;32mvideo_yolov4.sh\u001b[0m*\n",
            "CMakeLists.txt  docker-compose.yml      LICENSE                 \u001b[01;34mresults\u001b[0m/\n"
          ]
        }
      ]
    },
    {
      "cell_type": "code",
      "source": [
        "!sed -i 's/OPENCV=0/OPENCV=1/' Makefile\n",
        "!sed -i 's/GPU=0/GPU=1/' Makefile\n",
        "!sed -i 's/CUDNN=0/CUDNN=1/' Makefile"
      ],
      "metadata": {
        "id": "gVSq-AvVqwNQ"
      },
      "execution_count": 6,
      "outputs": []
    },
    {
      "cell_type": "code",
      "source": [
        "!make"
      ],
      "metadata": {
        "id": "scIyb5W_qwLU"
      },
      "execution_count": null,
      "outputs": []
    },
    {
      "cell_type": "code",
      "source": [
        "from google.colab import drive\n",
        "drive.mount('/content/gdrive')"
      ],
      "metadata": {
        "colab": {
          "base_uri": "https://localhost:8080/"
        },
        "id": "2WFnY--BCz0G",
        "outputId": "4772fce3-45c4-4d25-c1f0-82dc73318d79"
      },
      "execution_count": 7,
      "outputs": [
        {
          "output_type": "stream",
          "name": "stdout",
          "text": [
            "Mounted at /content/gdrive\n"
          ]
        }
      ]
    },
    {
      "cell_type": "code",
      "source": [
        "!ln -s /content/gdrive/My\\ Drive/yolo /yolo"
      ],
      "metadata": {
        "id": "fWoSEE6NDC7c"
      },
      "execution_count": 8,
      "outputs": []
    },
    {
      "cell_type": "code",
      "source": [
        "!unzip /yolo/obj.zip -d ./data"
      ],
      "metadata": {
        "id": "grS5XO_CqwHu"
      },
      "execution_count": null,
      "outputs": []
    },
    {
      "cell_type": "code",
      "source": [
        "!unzip /yolo/valid.zip -d ./data"
      ],
      "metadata": {
        "id": "KrWkEmogqwF5"
      },
      "execution_count": null,
      "outputs": []
    },
    {
      "cell_type": "code",
      "source": [
        "!cp /yolo/yolov4_custom.cfg ./cfg\n",
        "!cp /yolo/obj.names ./data\n",
        "!cp /yolo/obj.data ./data\n",
        "!cp /yolo/train.txt ./data\n",
        "!cp /yolo/test.txt ./data"
      ],
      "metadata": {
        "id": "29mwcCHkqwCe"
      },
      "execution_count": 11,
      "outputs": []
    },
    {
      "cell_type": "code",
      "source": [
        "!wget https://github.com/AlexeyAB/darknet/releases/download/darknet_yolo_v3_optimal/yolov4.conv.137\n"
      ],
      "metadata": {
        "id": "VWbl87gmqwAm"
      },
      "execution_count": null,
      "outputs": []
    },
    {
      "cell_type": "code",
      "source": [
        "!./darknet detector train data/obj.data cfg/yolov4_custom.cfg yolov4.conv.137 -dont_show -map"
      ],
      "metadata": {
        "id": "TM97Jbv1qv89"
      },
      "execution_count": null,
      "outputs": []
    },
    {
      "cell_type": "code",
      "source": [
        "import cv2\n",
        "import matplotlib.pyplot as plt\n",
        "def mostrar (frame):\n",
        "  imagem = cv2.imread(frame)\n",
        "  fig = plt.gcf() #função que chama uma figura do matplotlib\n",
        "  fig.set_size_inches(18,10) #tamanho que vai ser gerada a saída\n",
        "  plt.axis('off') #retira do formato padrão do matplotlib (como um plano cartesiano)\n",
        "  plt.imshow(cv2.cvtColor(imagem, cv2.COLOR_BGR2RGB))\n",
        "  plt.show()\n",
        "\n",
        "#mostrar('predictions.jpg')\n",
        "#mostrar('chart.png')"
      ],
      "metadata": {
        "id": "6thAC842qv7P"
      },
      "execution_count": 18,
      "outputs": []
    },
    {
      "cell_type": "code",
      "source": [
        "mostrar('chart.png')"
      ],
      "metadata": {
        "id": "IcJzxjB1qv3g"
      },
      "execution_count": null,
      "outputs": []
    },
    {
      "cell_type": "code",
      "source": [
        "!./darknet detector train data/obj.data cfg/yolov4_custom.cfg /yolo/yolov4_custom_last.weights -dont_show -map\n"
      ],
      "metadata": {
        "id": "9vIwOKmpvMb-"
      },
      "execution_count": null,
      "outputs": []
    },
    {
      "cell_type": "code",
      "source": [
        "!./darknet detector map data/obj.data cfg/yolov4_custom.cfg /yolo/yolov4_custom_last.weights\n"
      ],
      "metadata": {
        "id": "-Kxup_tNqvzw"
      },
      "execution_count": null,
      "outputs": []
    },
    {
      "cell_type": "code",
      "source": [
        "!./darknet detector test data/obj.data cfg/yolov4_custom.cfg /yolo/yolov4_custom_last.weights /yolo/facateste.jpg -thresh 0.005"
      ],
      "metadata": {
        "id": "3isHj-CVqv1e"
      },
      "execution_count": null,
      "outputs": []
    },
    {
      "cell_type": "code",
      "source": [
        "mostrar('predictions.jpg')"
      ],
      "metadata": {
        "id": "gFDKQWl3qvnE"
      },
      "execution_count": null,
      "outputs": []
    },
    {
      "cell_type": "code",
      "source": [
        "#mostrar('predictions.jpg')\n",
        "#mostrar('chart.png')"
      ],
      "metadata": {
        "id": "IVjF-V1GqvlV"
      },
      "execution_count": null,
      "outputs": []
    },
    {
      "cell_type": "code",
      "source": [],
      "metadata": {
        "id": "Do7iyvIuqviL"
      },
      "execution_count": null,
      "outputs": []
    }
  ]
}